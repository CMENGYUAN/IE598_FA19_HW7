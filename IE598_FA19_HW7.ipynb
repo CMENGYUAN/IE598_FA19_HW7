{
 "cells": [
  {
   "cell_type": "code",
   "execution_count": 1,
   "metadata": {},
   "outputs": [
    {
     "name": "stdout",
     "output_type": "stream",
     "text": [
      "<class 'pandas.core.frame.DataFrame'>\n",
      "RangeIndex: 30000 entries, 0 to 29999\n",
      "Data columns (total 25 columns):\n",
      "ID           30000 non-null int64\n",
      "LIMIT_BAL    30000 non-null int64\n",
      "SEX          30000 non-null int64\n",
      "EDUCATION    30000 non-null int64\n",
      "MARRIAGE     30000 non-null int64\n",
      "AGE          30000 non-null int64\n",
      "PAY_0        30000 non-null int64\n",
      "PAY_2        30000 non-null int64\n",
      "PAY_3        30000 non-null int64\n",
      "PAY_4        30000 non-null int64\n",
      "PAY_5        30000 non-null int64\n",
      "PAY_6        30000 non-null int64\n",
      "BILL_AMT1    30000 non-null int64\n",
      "BILL_AMT2    30000 non-null int64\n",
      "BILL_AMT3    30000 non-null int64\n",
      "BILL_AMT4    30000 non-null int64\n",
      "BILL_AMT5    30000 non-null int64\n",
      "BILL_AMT6    30000 non-null int64\n",
      "PAY_AMT1     30000 non-null int64\n",
      "PAY_AMT2     30000 non-null int64\n",
      "PAY_AMT3     30000 non-null int64\n",
      "PAY_AMT4     30000 non-null int64\n",
      "PAY_AMT5     30000 non-null int64\n",
      "PAY_AMT6     30000 non-null int64\n",
      "DEFAULT      30000 non-null int64\n",
      "dtypes: int64(25)\n",
      "memory usage: 5.7 MB\n"
     ]
    }
   ],
   "source": [
    "import pandas as pd\n",
    "from sklearn.model_selection import train_test_split\n",
    "df = pd.read_csv('file:///Users/mengyuanchen/Downloads/ccdefault.csv')\n",
    "df.info()"
   ]
  },
  {
   "cell_type": "code",
   "execution_count": 17,
   "metadata": {},
   "outputs": [],
   "source": [
    "from sklearn.model_selection import train_test_split\n",
    "y = df.values[:,24]\n",
    "X = df.values[:,1:24]\n",
    "X_train, X_test, y_train, y_test = train_test_split(X, y, test_size = 0.1, stratify = y)"
   ]
  },
  {
   "cell_type": "code",
   "execution_count": 20,
   "metadata": {},
   "outputs": [
    {
     "name": "stdout",
     "output_type": "stream",
     "text": [
      "in-sample CV scores: [0.8105926232840565, 0.8139262997612665, 0.814518179098668, 0.8150368212111678, 0.8149627059594222, 0.8155923767057571, 0.8160738171721439, 0.8162220612254009]\n",
      "out-of-sample scores: [0.8163333333333334, 0.8203333333333334, 0.823, 0.823, 0.8256666666666667, 0.8256666666666667, 0.825, 0.825]\n"
     ]
    }
   ],
   "source": [
    "from sklearn.ensemble import RandomForestClassifier\n",
    "from sklearn.metrics import accuracy_score\n",
    "from sklearn.model_selection import cross_val_score\n",
    "import numpy as np\n",
    "outscores = []\n",
    "inscores = []\n",
    "for n in [25,50,100,200,300,400,500,600]:\n",
    "    rf = RandomForestClassifier(n_estimators = n, n_jobs = -1)\n",
    "    cvscores = cross_val_score(rf, X_train, y_train, cv=10)\n",
    "    rf.fit(X_train, y_train)\n",
    "    y_pred = rf.predict(X_test)\n",
    "    inscores.append(np.mean(cvscores))\n",
    "    outscores.append(accuracy_score(y_test,y_pred))\n",
    "print(\"in-sample CV scores:\",inscores)\n",
    "print(\"out-of-sample scores:\",outscores)"
   ]
  },
  {
   "cell_type": "code",
   "execution_count": 21,
   "metadata": {},
   "outputs": [
    {
     "name": "stdout",
     "output_type": "stream",
     "text": [
      " 1) PAY_0                          0.096575\n",
      " 2) AGE                            0.067550\n",
      " 3) BILL_AMT1                      0.060634\n",
      " 4) LIMIT_BAL                      0.059847\n",
      " 5) BILL_AMT2                      0.054583\n",
      " 6) BILL_AMT3                      0.051778\n",
      " 7) PAY_AMT1                       0.051496\n",
      " 8) BILL_AMT6                      0.050935\n",
      " 9) BILL_AMT4                      0.050582\n",
      "10) BILL_AMT5                      0.049882\n",
      "11) PAY_AMT2                       0.047633\n",
      "12) PAY_AMT6                       0.046266\n",
      "13) PAY_AMT3                       0.046204\n",
      "14) PAY_2                          0.044415\n",
      "15) PAY_AMT5                       0.043602\n",
      "16) PAY_AMT4                       0.043184\n",
      "17) PAY_3                          0.026067\n",
      "18) PAY_4                          0.022281\n",
      "19) PAY_5                          0.021189\n",
      "20) EDUCATION                      0.020479\n",
      "21) PAY_6                          0.018620\n",
      "22) MARRIAGE                       0.014145\n",
      "23) SEX                            0.012053\n"
     ]
    },
    {
     "data": {
      "image/png": "[encoded data removed]",
      "text/plain": [
       "<Figure size 432x288 with 1 Axes>"
      ]
     },
     "metadata": {
      "needs_background": "light"
     },
     "output_type": "display_data"
    }
   ],
   "source": [
    "from sklearn.ensemble import RandomForestClassifier\n",
    "import matplotlib.pyplot as plt\n",
    "feat_labels = df.columns[1:]\n",
    "forest = RandomForestClassifier(n_estimators=600,random_state=1)\n",
    "forest.fit(X_train, y_train)\n",
    "importances = forest.feature_importances_\n",
    "indices = np.argsort(importances)[::-1]\n",
    "for f in range(X_train.shape[1]):\n",
    "    print(\"%2d) %-*s %f\" % (f + 1, 30,feat_labels[indices[f]],importances[indices[f]]))\n",
    "plt.title('Feature Importance')\n",
    "plt.bar(range(X_train.shape[1]),importances[indices],align='center')\n",
    "plt.xticks(range(X_train.shape[1]),\n",
    "feat_labels, rotation=90)\n",
    "plt.xlim([-1, X_train.shape[1]])\n",
    "plt.tight_layout()\n",
    "plt.show()"
   ]
  },
  {
   "cell_type": "code",
   "execution_count": null,
   "metadata": {},
   "outputs": [],
   "source": [
    "print(\"My name is {Mengyuan Chen}\")\n",
    "print(\"My NetID is: {mchen100}\")\n",
    "print(\"I hereby certify that I have read the University policy on Academic Integrity and that I am not in violation.\")"
   ]
  }
 ],
 "metadata": {
  "kernelspec": {
   "display_name": "Python 3",
   "language": "python",
   "name": "python3"
  },
  "language_info": {
   "codemirror_mode": {
    "name": "ipython",
    "version": 3
   },
   "file_extension": ".py",
   "mimetype": "text/x-python",
   "name": "python",
   "nbconvert_exporter": "python",
   "pygments_lexer": "ipython3",
   "version": "3.7.3"
  }
 },
 "nbformat": 4,
 "nbformat_minor": 2
}
